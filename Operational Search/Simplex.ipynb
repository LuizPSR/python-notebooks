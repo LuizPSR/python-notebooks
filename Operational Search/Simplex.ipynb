{
 "cells": [
  {
   "cell_type": "code",
   "execution_count": 1,
   "metadata": {
    "executionInfo": {
     "elapsed": 5,
     "status": "ok",
     "timestamp": 1668802455333,
     "user": {
      "displayName": "Luiz Paulo Santos Ribeiro",
      "userId": "08815582276668123883"
     },
     "user_tz": 180
    },
    "id": "n4fx52Zuy8d9"
   },
   "outputs": [],
   "source": [
    "import numpy as np\n",
    "import regex as re"
   ]
  },
  {
   "cell_type": "markdown",
   "metadata": {
    "id": "J1A5iK_494-m"
   },
   "source": [
    "Firstly, we need to create methods that implement basic functions of the tableau\n",
    "\n",
    "# Tableau"
   ]
  },
  {
   "cell_type": "code",
   "execution_count": 2,
   "metadata": {
    "executionInfo": {
     "elapsed": 16,
     "status": "ok",
     "timestamp": 1668802455653,
     "user": {
      "displayName": "Luiz Paulo Santos Ribeiro",
      "userId": "08815582276668123883"
     },
     "user_tz": 180
    },
    "id": "ooveIU4825fb"
   },
   "outputs": [],
   "source": [
    "def create_tableau(c, A, b):\n",
    "  n, m = A.shape\n",
    "\n",
    "  I = np.identity(n)\n",
    "  zeros = np.zeros((1,n))\n",
    "  \n",
    "  vero = np.append(I, zeros, axis=0)\n",
    "  A_ext = np.append(A, I, axis=1)\n",
    "  b_ext = np.append(b, [[0]], axis=0)\n",
    "  c_ext = np.append(c, zeros, axis=1)\n",
    "\n",
    "  tableau = np.append(A_ext, -c_ext, axis=0)\n",
    "  tableau = np.append(tableau, b_ext, axis=1)\n",
    "  tableau = np.append(vero, tableau, axis=1)\n",
    "\n",
    "  return tableau"
   ]
  },
  {
   "cell_type": "code",
   "execution_count": 3,
   "metadata": {
    "executionInfo": {
     "elapsed": 16,
     "status": "ok",
     "timestamp": 1668802455654,
     "user": {
      "displayName": "Luiz Paulo Santos Ribeiro",
      "userId": "08815582276668123883"
     },
     "user_tz": 180
    },
    "id": "-inibFkC8URK"
   },
   "outputs": [],
   "source": [
    "def FPI(tableau, n, m):  \n",
    "  neg = tableau[:n,n+m+n] < 0\n",
    "  for i in range(n):\n",
    "    if neg[i]:\n",
    "      tableau[i,:] *= -1\n",
    "  return tableau"
   ]
  },
  {
   "cell_type": "code",
   "execution_count": 4,
   "metadata": {
    "executionInfo": {
     "elapsed": 16,
     "status": "ok",
     "timestamp": 1668802455654,
     "user": {
      "displayName": "Luiz Paulo Santos Ribeiro",
      "userId": "08815582276668123883"
     },
     "user_tz": 180
    },
    "id": "KUw3rOtOB5KG"
   },
   "outputs": [],
   "source": [
    "def checkUnlimited(tableau, n, m):\n",
    "  for i in range(n, n+m+n+1):\n",
    "    if tableau[n,i] < 0 and all(tableau[:n,i] <= 0):\n",
    "      return True\n",
    "  return False"
   ]
  },
  {
   "cell_type": "code",
   "execution_count": 5,
   "metadata": {
    "executionInfo": {
     "elapsed": 12,
     "status": "ok",
     "timestamp": 1668802455654,
     "user": {
      "displayName": "Luiz Paulo Santos Ribeiro",
      "userId": "08815582276668123883"
     },
     "user_tz": 180
    },
    "id": "277rfjOdDEDP"
   },
   "outputs": [],
   "source": [
    "def checkUnfeasable(tableau, n, m):\n",
    "  for i in range(n):\n",
    "    if tableau[i, n+m+n] > 0 and all(tableau[i, n:(n+m+n)] <= 0):\n",
    "      return True\n",
    "  return False\n",
    "\n",
    "def UnfeasableCert(tableau, n, m):\n",
    "  y = np.zeros((1,n))\n",
    "  for i in range(n):\n",
    "    if tableau[i, n+m+n] > 0 and all(tableau[i, n:(n+m+n)] <= 0):\n",
    "      y = -tableau[i,:n]\n",
    "      break\n",
    "  return y"
   ]
  },
  {
   "cell_type": "code",
   "execution_count": 6,
   "metadata": {
    "executionInfo": {
     "elapsed": 11,
     "status": "ok",
     "timestamp": 1668802455654,
     "user": {
      "displayName": "Luiz Paulo Santos Ribeiro",
      "userId": "08815582276668123883"
     },
     "user_tz": 180
    },
    "id": "1TZzkVpuBJhg"
   },
   "outputs": [],
   "source": [
    "def checkOptimal(tableau, n, m):\n",
    "  return all(tableau[n,:(n+m+n)] >= 0)"
   ]
  },
  {
   "cell_type": "code",
   "execution_count": 7,
   "metadata": {
    "executionInfo": {
     "elapsed": 11,
     "status": "ok",
     "timestamp": 1668802455655,
     "user": {
      "displayName": "Luiz Paulo Santos Ribeiro",
      "userId": "08815582276668123883"
     },
     "user_tz": 180
    },
    "id": "C5EX_o-QFIo-"
   },
   "outputs": [],
   "source": [
    "def get_pivot(tableau, n, m):\n",
    "  # getting better result\n",
    "  min_c = min(tableau[n,n:(n+m+n)])\n",
    "\n",
    "  col = -1\n",
    "  row = -1\n",
    "  if min_c < 0:\n",
    "    col = n\n",
    "    while col < n+m+n:\n",
    "      if tableau[n,col] == min_c:\n",
    "        break\n",
    "      col+=1\n",
    "    \n",
    "    min_r = np.inf\n",
    "    for i in range(n):\n",
    "      if tableau[i,col] > 0 and tableau[i,(n+m+n)]/tableau[i,col] < min_r:\n",
    "        row = i\n",
    "        min_r = tableau[i,(n+m+n)]/tableau[i,col]\n",
    "\n",
    "  return row, col\n",
    "\n",
    "def aux_pivot(tableau, n, m):\n",
    "  row = -1\n",
    "  col = -1\n",
    "  for i in range(n):\n",
    "    unsolved_row = tableau[i,(n+m+n)] != 0\n",
    "    temp_col = -1\n",
    "    j = n\n",
    "    while j < n+m+n and unsolved_row:\n",
    "      if tableau[i,j] > 0:\n",
    "        temp_col = j\n",
    "\n",
    "        if np.count_nonzero(tableau[:n,j]) == 1:\n",
    "          unsolved_row = False\n",
    "      j += 1\n",
    "\n",
    "    if unsolved_row:\n",
    "      row = i\n",
    "      col = temp_col\n",
    "      break\n",
    "\n",
    "  return row, col\n",
    "\n",
    "def pivot(tableau, pos):\n",
    "  r, c = pos\n",
    "  \n",
    "  tableau[r,:] /= tableau[r,c]\n",
    "  operation = np.identity(tableau.shape[0])\n",
    "  operation[:,r] += -tableau[:,c]\n",
    "  operation[r,r] = 1\n",
    "\n",
    "  tableau = np.round(operation @ tableau, decimals=6)\n",
    "  return operation"
   ]
  },
  {
   "cell_type": "code",
   "execution_count": 8,
   "metadata": {
    "executionInfo": {
     "elapsed": 10,
     "status": "ok",
     "timestamp": 1668802455655,
     "user": {
      "displayName": "Luiz Paulo Santos Ribeiro",
      "userId": "08815582276668123883"
     },
     "user_tz": 180
    },
    "id": "ZUAhW53LiYIv"
   },
   "outputs": [],
   "source": [
    "def has_obvious_Sol(tableau,n,m):\n",
    "  solved = (tableau[:n,(n+m+n)] == 0).tolist()\n",
    "\n",
    "  for i in range(n):\n",
    "    for j in range(n,n+m+n):\n",
    "      if tableau[i,j] > 0 and np.count_nonzero(tableau[:n,j]) == 1:\n",
    "        tableau[i,:] /= tableau[i,j]\n",
    "        solved[i] = True\n",
    "        break\n",
    "  \n",
    "  tableau = np.round(tableau, decimals=6)\n",
    "  return all(solved)"
   ]
  },
  {
   "cell_type": "code",
   "execution_count": 9,
   "metadata": {
    "executionInfo": {
     "elapsed": 10,
     "status": "ok",
     "timestamp": 1668802455656,
     "user": {
      "displayName": "Luiz Paulo Santos Ribeiro",
      "userId": "08815582276668123883"
     },
     "user_tz": 180
    },
    "id": "F8gW8v7YosZb"
   },
   "outputs": [],
   "source": [
    "def obvious_Sol(tableau, n, m):\n",
    "  sol = np.zeros(m)\n",
    "  if not has_obvious_Sol(tableau,n,m):\n",
    "    return sol\n",
    "\n",
    "  basic_col = []\n",
    "  basic_row = []\n",
    "  unsolved = (tableau[:n,(n+m+n)] != 0).tolist()\n",
    "\n",
    "  j=n\n",
    "  while (j < n+m and any(unsolved)):\n",
    "    if tableau[n,j] == 0  and np.count_nonzero(tableau[:n,j]) == 1:\n",
    "      for i in range(n):\n",
    "        if tableau[i,j] == 1 and unsolved[i]:\n",
    "          basic_row.append(i)\n",
    "          basic_col.append(j-n)\n",
    "          break\n",
    "    j+=1\n",
    "  \n",
    "  for i in range(len(basic_col)):\n",
    "    sol[basic_col[i]] = tableau[basic_row[i],(n+m+n)]\n",
    "  \n",
    "  return np.array([sol])"
   ]
  },
  {
   "cell_type": "code",
   "execution_count": 10,
   "metadata": {
    "executionInfo": {
     "elapsed": 10,
     "status": "ok",
     "timestamp": 1668802455656,
     "user": {
      "displayName": "Luiz Paulo Santos Ribeiro",
      "userId": "08815582276668123883"
     },
     "user_tz": 180
    },
    "id": "iSqkc_VDaBR9"
   },
   "outputs": [],
   "source": [
    "def format(array):\n",
    "  return re.sub('( \\[|\\[|\\])', '', str(array))\n",
    "\n",
    "def print_step(pos, piv):\n",
    "  print('Tableau Step')\n",
    "  print('Pivoting pos = ', pos)\n",
    "  print('Operantion Matrix')\n",
    "  print(piv)\n",
    "\n",
    "def print_tableau(tableau):\n",
    "  print('Current Tableau')\n",
    "  print(tableau)"
   ]
  },
  {
   "cell_type": "code",
   "execution_count": 11,
   "metadata": {
    "executionInfo": {
     "elapsed": 10,
     "status": "ok",
     "timestamp": 1668802455657,
     "user": {
      "displayName": "Luiz Paulo Santos Ribeiro",
      "userId": "08815582276668123883"
     },
     "user_tz": 180
    },
    "id": "iM2K6GjYMXBa"
   },
   "outputs": [],
   "source": [
    "def simplex(c,A,b):\n",
    "  n, m = A.shape\n",
    "  tableau = create_tableau(c,A,b)\n",
    "  tableau = FPI(tableau, n, m)\n",
    "  # print_tableau(tableau)\n",
    "\n",
    "  # get obvious solution\n",
    "  i=0\n",
    "  while not has_obvious_Sol(tableau, n, m):\n",
    "    if checkUnfeasable(tableau, n, m):\n",
    "      y = UnfeasableCert(tableau, n, m)\n",
    "      print('inviavel')\n",
    "      print(format(y))\n",
    "      return\n",
    "\n",
    "    pos = aux_pivot(tableau, n, m)\n",
    "    p = pivot(tableau, pos)\n",
    "    # print_step(pos, p)\n",
    "\n",
    "    tableau = p @ tableau\n",
    "    tableau = FPI(tableau, n, m)\n",
    "    # print_tableau(tableau)\n",
    "\n",
    "    i+=1\n",
    "    if i>10: break\n",
    "  \n",
    "  # get optimal sol\n",
    "  while not checkOptimal(tableau, n, m):\n",
    "    if checkUnlimited(tableau, n, m):\n",
    "      sol = obvious_Sol(tableau, n, m)\n",
    "      print('ilimitada')\n",
    "      print(format(sol))\n",
    "      print(format(sol))\n",
    "      return\n",
    "    \n",
    "    pos = get_pivot(tableau, n, m)\n",
    "    p = pivot(tableau, pos)\n",
    "    # print_step(pos, p)\n",
    "\n",
    "    tableau = p @ tableau\n",
    "    # print_tableau(tableau)\n",
    "\n",
    "  sol = obvious_Sol(tableau, n, m)\n",
    "  y = tableau[n,:n]\n",
    "  print('otima')\n",
    "  print(format(tableau[n,(n+m+n)]))\n",
    "  print(format(sol))\n",
    "  print(format(y))"
   ]
  },
  {
   "cell_type": "markdown",
   "metadata": {
    "id": "rZTM_DLvLsdY"
   },
   "source": [
    "Honestly, this was easier than I expected, probably won't work. And finally...\n",
    "\n",
    "# Reading Input"
   ]
  },
  {
   "cell_type": "code",
   "execution_count": 17,
   "metadata": {
    "colab": {
     "base_uri": "https://localhost:8080/"
    },
    "executionInfo": {
     "elapsed": 41547,
     "status": "ok",
     "timestamp": 1668802638116,
     "user": {
      "displayName": "Luiz Paulo Santos Ribeiro",
      "userId": "08815582276668123883"
     },
     "user_tz": 180
    },
    "id": "9lR2PpqP6DGr",
    "outputId": "8f013816-3ac4-402a-ad17-2b96a84764e0"
   },
   "outputs": [
    {
     "name": "stdout",
     "output_type": "stream",
     "text": [
      "7 5\n",
      "-7 -2 -2 5 -2\n",
      "2 0 -1 1 2 -9\n",
      "2 -2 -1 0 1 6\n",
      "0 2 0 -2 -1 5\n",
      "-1 1 1 -1 -2 -3\n",
      "0 -1 -1 0 2 8\n",
      "0 0 1 0 1 7\n",
      "1 0 -2 -2 1 -10\n"
     ]
    }
   ],
   "source": [
    "n, m = map(int, input().split())\n",
    "c = np.array(list(map(int, input().split())), dtype=float).reshape(1,m)\n",
    "\n",
    "A = []\n",
    "b = []\n",
    "for i in range(n):\n",
    "  entries = list(map(int, input().split()))\n",
    "  A.append(entries[:m])\n",
    "  b.append(entries[m])\n",
    "A = np.array(A, dtype=float).reshape(n,m)\n",
    "b = np.array(b, dtype=float).reshape(n,1)"
   ]
  },
  {
   "cell_type": "markdown",
   "metadata": {
    "id": "0xTcAK7p9vXo"
   },
   "source": [
    "# Runing"
   ]
  },
  {
   "cell_type": "code",
   "execution_count": 18,
   "metadata": {
    "colab": {
     "base_uri": "https://localhost:8080/"
    },
    "executionInfo": {
     "elapsed": 241,
     "status": "ok",
     "timestamp": 1668802639537,
     "user": {
      "displayName": "Luiz Paulo Santos Ribeiro",
      "userId": "08815582276668123883"
     },
     "user_tz": 180
    },
    "id": "S68IVEeY39xh",
    "outputId": "ffa7ee94-dc2c-41b1-dd90-f18cb89139c7"
   },
   "outputs": [
    {
     "name": "stdout",
     "output_type": "stream",
     "text": [
      "inviavel\n",
      " 1. -0. -0.  1. -0. -0. -0.\n"
     ]
    }
   ],
   "source": [
    "simplex(c,A,b)"
   ]
  }
 ],
 "metadata": {
  "colab": {
   "provenance": []
  },
  "kernelspec": {
   "display_name": "Python 3 (ipykernel)",
   "language": "python",
   "name": "python3"
  },
  "language_info": {
   "codemirror_mode": {
    "name": "ipython",
    "version": 3
   },
   "file_extension": ".py",
   "mimetype": "text/x-python",
   "name": "python",
   "nbconvert_exporter": "python",
   "pygments_lexer": "ipython3",
   "version": "3.11.9"
  }
 },
 "nbformat": 4,
 "nbformat_minor": 4
}
