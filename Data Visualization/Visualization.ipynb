{
 "cells": [
  {
   "cell_type": "code",
   "execution_count": null,
   "id": "0905f3c4-03c3-4cf3-b83a-e9be5d87c540",
   "metadata": {},
   "outputs": [],
   "source": [
    "import numpy as np\n",
    "import pandas as pd\n",
    "import geopandas as gpd\n",
    "import unicodedata\n",
    "\n",
    "from bokeh.plotting import figure, show\n",
    "from bokeh.io import output_notebook\n",
    "from bokeh.palettes import Category20, Viridis256, RdYlGn\n",
    "from bokeh.models import GeoJSONDataSource, ColumnDataSource, HoverTool, Legend, TabPanel, Tabs, ColorBar\n",
    "from bokeh.transform import linear_cmap, LinearColorMapper"
   ]
  },
  {
   "cell_type": "code",
   "execution_count": null,
   "id": "6f493fa7-837d-4944-84bc-5959800409a4",
   "metadata": {},
   "outputs": [],
   "source": [
    "database = pd.read_csv('Vítimas de Homicidio Consumado - Jan 2012 a Fev 2024.csv', encoding='latin_1', sep=';')"
   ]
  },
  {
   "cell_type": "code",
   "execution_count": null,
   "id": "d6e228a1-8173-47d4-8339-f4c077f18ef1",
   "metadata": {},
   "outputs": [],
   "source": [
    "database"
   ]
  },
  {
   "cell_type": "code",
   "execution_count": null,
   "id": "8be57257-7cc9-40a0-9c16-1440ad52c5b8",
   "metadata": {},
   "outputs": [],
   "source": [
    "database = database.drop(columns=['Número REDS','Número Envolvido/Ocorrência','Natureza Principal Final','Horário Fato','Relação Vítima/Autor','Tipo Logradouro Envolvido', 'BAIRRO - FATO FINAL', 'RMBH',\n",
    "                      'Faixa 6 Horas Fato','Descrição Grupo Local Imediato','Tipo_Envolvimento_Lesão_Final','Bairro Envolvido', 'Bairro Envolvido Não Cadastrado', 'Logradouro Ocorrência - Tipo',\n",
    "                      'Município Envolvido','UF Envolvido - Nome', 'RISP', 'UF - Sigla - FATO', 'Município - Código - FATO', 'BAIRRO - FATO FINAL -Município', 'Bairro Não Cadastrado - FATO',\n",
    "                      'Bairro - FATO'])\n",
    "database['Data Numerica'] = database['Ano Fato'] + (database['Mês Numérico Fato'] - 1)/12\n",
    "database"
   ]
  },
  {
   "cell_type": "code",
   "execution_count": null,
   "id": "91a53c09-6a50-409a-b1d6-98a54d30bc8d",
   "metadata": {},
   "outputs": [],
   "source": [
    "output_notebook()"
   ]
  },
  {
   "cell_type": "markdown",
   "id": "28233e1d-5653-4317-977c-48c0a3854cbe",
   "metadata": {
    "jp-MarkdownHeadingCollapsed": true
   },
   "source": [
    "# Quem é vitimizado?"
   ]
  },
  {
   "cell_type": "markdown",
   "id": "994eead7-9f52-4d54-9f4a-90269990fcfb",
   "metadata": {},
   "source": [
    "Perfil racial"
   ]
  },
  {
   "cell_type": "code",
   "execution_count": null,
   "id": "49d7d51d-69c2-471a-bf6e-ceeafa7c427d",
   "metadata": {},
   "outputs": [],
   "source": [
    "db = database[['Ano Fato','Cútis']]\n",
    "\n",
    "# group by 'Year' and 'Category' and count the occurrences\n",
    "category_counts = db.groupby(['Ano Fato', 'Cútis']).size().reset_index(name='Count')\n",
    "total = category_counts.groupby('Ano Fato')['Count'].transform('sum')\n",
    "category_counts['Count'] = category_counts['Count'] / total\n",
    "\n",
    "# pivot to have 'Category' as columns\n",
    "pivoted = category_counts.pivot(index='Ano Fato', columns='Cútis', values='Count').fillna(0)\n",
    "\n",
    "pivoted['NÃO INFORMADA'] = pivoted['DESCONHECIDA'] + pivoted['DESCONHECIDO'] + pivoted['IGNORADA'] + pivoted['PREENCHIMENTO OPCIONAL']\n",
    "pivoted = pivoted.drop(columns=['DESCONHECIDA', 'DESCONHECIDO', 'IGNORADA', 'PREENCHIMENTO OPCIONAL'])\n",
    "\n",
    "# get the list of categories\n",
    "categories = pivoted.columns"
   ]
  },
  {
   "cell_type": "code",
   "execution_count": null,
   "id": "c04d72fe-b4d9-45d3-902d-16a83f56e76e",
   "metadata": {},
   "outputs": [],
   "source": [
    "# set up figure\n",
    "p1 = figure(x_axis_label='Ano', y_axis_label='Fração dos mortos', height=800, width=1200, y_range=[0,1], x_range=(2012,2024), tools='save', sizing_mode='stretch_width')\n",
    "\n",
    "# add stack\n",
    "stack = p1.varea_stack(categories, x='Ano Fato', source=pivoted, color=Category20[len(categories)])\n",
    "\n",
    "# set legends\n",
    "legend = Legend(items=[(x, [stack[i]]) for i, x in enumerate(categories)])\n",
    "p1.add_layout(legend, 'right')\n",
    "p1.legend.orientation = 'vertical'\n",
    "\n",
    "# change style of title\n",
    "p1.title = \"Perfil Demográfico dos Homicídios em Minas Gerais (2012 - Fev 2024)\"\n",
    "p1.title.text_font_size = \"24px\"\n",
    "p1.title.text_color = \"navy\"\n",
    "\n",
    "# save the plot\n",
    "tab1 = TabPanel(child=p1, title='Cútis')"
   ]
  },
  {
   "cell_type": "markdown",
   "id": "dcab38cc-d4f4-4cbd-88b4-7d0f507909ab",
   "metadata": {},
   "source": [
    "Nível de Escolaridade"
   ]
  },
  {
   "cell_type": "code",
   "execution_count": null,
   "id": "aabfaa60-cacc-42cf-a718-00731282339e",
   "metadata": {},
   "outputs": [],
   "source": [
    "db = database[['Ano Fato','Escolaridade']]\n",
    "\n",
    "# group by 'Year' and 'Category' and count the occurrences\n",
    "category_counts = db.groupby(['Ano Fato', 'Escolaridade']).size().reset_index(name='Count')\n",
    "total = category_counts.groupby('Ano Fato')['Count'].transform('sum')\n",
    "category_counts['Count'] = category_counts['Count'] / total\n",
    "\n",
    "# pivot to have 'Category' as columns\n",
    "pivoted = category_counts.pivot(index='Ano Fato', columns='Escolaridade', values='Count').fillna(0)\n",
    "\n",
    "# get the list of unique categories\n",
    "categories = pivoted.columns"
   ]
  },
  {
   "cell_type": "code",
   "execution_count": null,
   "id": "3f55af74-d395-466e-8af8-32bcf678eb1f",
   "metadata": {},
   "outputs": [],
   "source": [
    "# set up figure\n",
    "p2 = figure(x_axis_label='Ano', y_axis_label='Fração dos mortos', height=800, width=1200, y_range=[0,1], x_range=(2012,2024), tools='save', sizing_mode='stretch_width')\n",
    "\n",
    "# add stack\n",
    "stack = p2.varea_stack(categories, x='Ano Fato', source=pivoted, color=Category20[len(categories)])\n",
    "\n",
    "# set legends\n",
    "legend = Legend(items=[(x, [stack[i]]) for i, x in enumerate(categories)])\n",
    "p2.add_layout(legend, 'right')\n",
    "p2.legend.orientation = 'vertical'\n",
    "\n",
    "# change style of title\n",
    "p2.title = \"Perfil Demográfico dos Homicídios em Minas Gerais (2012 - Fev 2024)\"\n",
    "p2.title.text_font_size = \"24px\"\n",
    "p2.title.text_color = \"navy\"\n",
    "\n",
    "# save the plot\n",
    "tab2 = TabPanel(child=p2, title='Escolaridade')"
   ]
  },
  {
   "cell_type": "markdown",
   "id": "7b16ede6-6e65-40e3-ae67-c52890d4b1f3",
   "metadata": {},
   "source": [
    "Faixa Etária"
   ]
  },
  {
   "cell_type": "code",
   "execution_count": null,
   "id": "2cedf825-5d67-41ad-ab3c-da76ef0c3625",
   "metadata": {},
   "outputs": [],
   "source": [
    "db = database[['Ano Fato','Idade Aparente']].copy()\n",
    "\n",
    "# convert valid age values to numeric\n",
    "db['Idade Aparente'] = pd.to_numeric(db['Idade Aparente'], errors='coerce')\n",
    "\n",
    "# categorize 'Idade Aparente'\n",
    "bins = [0, 12, 18, 24, 30, 36, 42, 48, 54, 60, 72, 100]\n",
    "labels = ['0-12', '13-18', '19-24', '25-30', '31-36', '37-42', '43-48', '49-54', '55-60', '60-72', 'up to 100']\n",
    "db['Faixa Etaria'] = pd.cut(db['Idade Aparente'], bins=bins, labels=labels, right=False)\n",
    "db = db.drop(columns=['Idade Aparente'])\n",
    "\n",
    "# handle 'DESCONHECIDA' values separately\n",
    "db['Faixa Etaria'] = db['Faixa Etaria'].cat.add_categories(['DESCONHECIDA']).fillna('DESCONHECIDA')\n",
    "\n",
    "# group by 'Year' and 'Category' and count the occurrences\n",
    "category_counts = db.groupby(['Ano Fato', 'Faixa Etaria']).size().reset_index(name='Count')\n",
    "total = category_counts.groupby('Ano Fato')['Count'].transform('sum')\n",
    "category_counts['Count'] = category_counts['Count'] / total\n",
    "\n",
    "# pivot to have 'Category' as columns\n",
    "pivoted = category_counts.pivot(index='Ano Fato', columns='Faixa Etaria', values='Count').fillna(0)\n",
    "\n",
    "# get the list of unique categories\n",
    "categories = pivoted.columns"
   ]
  },
  {
   "cell_type": "code",
   "execution_count": null,
   "id": "891c19c0-a942-4cc2-b9e1-1de0a0d06826",
   "metadata": {},
   "outputs": [],
   "source": [
    "# set up figure\n",
    "p3 = figure(x_axis_label='Ano', y_axis_label='Fração dos mortos', height=800, width=1200, y_range=[0,1], x_range=(2012,2024), tools='save', sizing_mode='stretch_width')\n",
    "\n",
    "# add stack\n",
    "stack = p3.varea_stack(categories, x='Ano Fato', source=pivoted, color=Category20[len(categories)])\n",
    "\n",
    "# set legends\n",
    "legend = Legend(items=[(x, [stack[i]]) for i, x in enumerate(categories)], title=\"Faixa Etaria\")\n",
    "p3.add_layout(legend, 'right')\n",
    "p3.legend.orientation = 'vertical'\n",
    "\n",
    "# change style of title\n",
    "p3.title = \"Perfil Demográfico dos Homicídios em Minas Gerais (2012 - Fev 2024)\"\n",
    "p3.title.text_font_size = \"24px\"\n",
    "p3.title.text_color = \"navy\"\n",
    "\n",
    "# save the plot\n",
    "tab3 = TabPanel(child=p3, title='Idade')"
   ]
  },
  {
   "cell_type": "markdown",
   "id": "4cea8a1f-cac9-4faa-be96-4810b082c0d6",
   "metadata": {},
   "source": [
    "Sexo"
   ]
  },
  {
   "cell_type": "code",
   "execution_count": null,
   "id": "c3b94bfb-7a3a-4968-8ae7-9ae2fcaaaf0b",
   "metadata": {},
   "outputs": [],
   "source": [
    "db = database[['Ano Fato','Sexo']].copy()\n",
    "\n",
    "# group by 'Year' and 'Category' and count the occurrences\n",
    "category_counts = db.groupby(['Ano Fato', 'Sexo']).size().reset_index(name='Count')\n",
    "total = category_counts.groupby('Ano Fato')['Count'].transform('sum')\n",
    "category_counts['Count'] = category_counts['Count'] / total\n",
    "\n",
    "# pivot to have 'Category' as columns\n",
    "pivoted = category_counts.pivot(index='Ano Fato', columns='Sexo', values='Count').fillna(0)\n",
    "\n",
    "# remove non-binary data as it is less relevant\n",
    "pivoted = pivoted.drop(columns=['DESCONHECIDO', 'NÃO IDENTIFICADO', 'NÃO INFORMADO'])\n",
    "pivoted[\"NÃO INFORMADO\"] = 1 - pivoted['FEMININO'] - pivoted['MASCULINO']\n",
    "\n",
    "# get the list of unique categories\n",
    "categories = pivoted.columns"
   ]
  },
  {
   "cell_type": "code",
   "execution_count": null,
   "id": "b6a2e534-83a4-4aa9-ac6b-dc56678cef33",
   "metadata": {},
   "outputs": [],
   "source": [
    "# set up figure\n",
    "p4 = figure(x_axis_label='Ano', y_axis_label='Fração dos mortos', height=800, width=2200, y_range=[0,1], x_range=(2012,2024), tools='save', sizing_mode='fixed')\n",
    "\n",
    "# add stack\n",
    "stack = p4.varea_stack(categories, x='Ano Fato', source=pivoted, color=['firebrick', 'navy', 'green'])\n",
    "\n",
    "# set legends\n",
    "legend = Legend(items=[(x, [stack[i]]) for i, x in enumerate(categories)], title=\"Sexo\")\n",
    "p4.add_layout(legend, 'right')\n",
    "p4.legend.orientation = 'vertical'\n",
    "\n",
    "# change style of title\n",
    "p4.title = \"Perfil Demográfico dos Homicídios em Minas Gerais (2012 - Fev 2024)\"\n",
    "p4.title.text_font_size = \"24px\"\n",
    "p4.title.text_color = \"navy\"\n",
    "\n",
    "# save the plot\n",
    "tab4 = TabPanel(child=p4, title='Sexo')"
   ]
  },
  {
   "cell_type": "markdown",
   "id": "72ef8be4-fa10-46d2-8a18-70838fe3510d",
   "metadata": {},
   "source": [
    "Combined Plots"
   ]
  },
  {
   "cell_type": "code",
   "execution_count": null,
   "id": "43ec4ce5-bf49-4b3d-874b-144eb17a96cb",
   "metadata": {},
   "outputs": [],
   "source": [
    "tabs = Tabs(tabs=[tab1, tab2, tab3, tab4])\n",
    "show(tabs)"
   ]
  },
  {
   "cell_type": "markdown",
   "id": "7e9920d1-93dc-4d51-87d9-ed8931d004ae",
   "metadata": {
    "jp-MarkdownHeadingCollapsed": true
   },
   "source": [
    "# Onde ocorrem?"
   ]
  },
  {
   "cell_type": "code",
   "execution_count": null,
   "id": "ac6834aa-c37a-4864-8ae0-88f507749660",
   "metadata": {},
   "outputs": [],
   "source": [
    "# read municipality map found in 'https://geoftp.ibge.gov.br/organizacao_do_territorio/malhas_territoriais/malhas_municipais/municipio_2021/Brasil/BR/BR_Municipios_2021.zip'\n",
    "mapa = gpd.read_file('zip:municipios.zip')\n",
    "mapa = mapa[(mapa['SIGLA'] == 'MG')]"
   ]
  },
  {
   "cell_type": "code",
   "execution_count": null,
   "id": "d95dd641-ce7b-4f9d-a10d-5eafd07dd73e",
   "metadata": {},
   "outputs": [],
   "source": [
    "# Find the relative number of homicides for municipality\n",
    "relative = database['Município - FATO'].value_counts().reset_index()\n",
    "relative.columns = ['NM_MUN', 'count']\n",
    "relative['percentile'] = relative['count'] * 100 / len(database)\n",
    "relative['log'] = np.log(relative['count'] + 1) "
   ]
  },
  {
   "cell_type": "code",
   "execution_count": null,
   "id": "e696c8ad-752b-40cb-93c6-6686e888b051",
   "metadata": {},
   "outputs": [],
   "source": [
    "def normalize_name(text):\n",
    "    nfkd_form = unicodedata.normalize('NFKD', text)\n",
    "    only_ascii = nfkd_form.encode('ASCII', 'ignore').decode('ASCII')\n",
    "    return only_ascii.upper()\n",
    "    \n",
    "# normalize municipality names\n",
    "relative['NM_MUN'] = relative['NM_MUN'].apply(normalize_name)\n",
    "mapa['NM_MUN'] = mapa['NM_MUN'].apply(normalize_name)\n",
    "\n",
    "# join map and data\n",
    "mapa = mapa.set_index('NM_MUN').join(relative.set_index('NM_MUN'), how='left').fillna(0)\n",
    "mapa = mapa.reset_index()\n",
    "\n",
    "# create geodata\n",
    "geo_source = GeoJSONDataSource(geojson=mapa.to_json())"
   ]
  },
  {
   "cell_type": "code",
   "execution_count": null,
   "id": "33f94593-d06f-475f-865f-a7bd44c80cae",
   "metadata": {},
   "outputs": [],
   "source": [
    "# set up the tooltips\n",
    "TOOLTIPS = [\n",
    "    (\"Município\", \"@NM_MUN\"),\n",
    "    (\"Área\", \"@AREA_KM2{0.1} km²\"),\n",
    "    (\"# de Homicídios\", \"@count{(0,0)}\"),\n",
    "    (\"Porcentagem\", \"@percentile{(2.2)} %\"),\n",
    "]\n",
    "\n",
    "# set up the figure\n",
    "map_plot = figure(\n",
    "    height=200,  # set a width and height to define the aspect ratio\n",
    "    width=300,\n",
    "    sizing_mode=\"scale_width\",\n",
    "    tooltips=TOOLTIPS,\n",
    "    title=\"Homicídios no Estado de Minas Gerais (2012 - Fev 2024)\",\n",
    "    x_axis_location=None,  # deactivate x-axis\n",
    "    y_axis_location=None,  # deactivate y-axis\n",
    "    tools=\"save,hover\",    # deactivate useless tools\n",
    ")\n",
    "map_plot.grid.grid_line_color = None  # make grid lines invisible\n",
    "\n",
    "# draw the state polygons\n",
    "mg = map_plot.patches(  # use the patches method to draw the polygons of all states\n",
    "    xs=\"xs\",\n",
    "    ys=\"ys\",\n",
    "    fill_color=linear_cmap(field_name=\"log\", palette=Viridis256, low=mapa[\"log\"].min(), high=mapa[\"log\"].max()),  # color the states by mapping the number of routes to color values from a palette\n",
    "    source=geo_source,\n",
    "    line_color=\"black\",\n",
    "    line_width=1,\n",
    ")\n",
    "\n",
    "# add color bar\n",
    "color_bar = mg.construct_color_bar(height=10, title=\"Logaritmo de 2 do total de mortos\")\n",
    "map_plot.add_layout(obj=color_bar, place=\"below\")\n",
    "\n",
    "# change style of title\n",
    "map_plot.title.text_font_size = \"24px\"\n",
    "map_plot.title.text_color = \"navy\"\n",
    "\n",
    "show(map_plot)"
   ]
  },
  {
   "cell_type": "markdown",
   "id": "df592ff2-a5b4-4b7b-b5fb-082251ef7822",
   "metadata": {},
   "source": [
    "# Quando ocorrem?"
   ]
  },
  {
   "cell_type": "markdown",
   "id": "fdde37ff-a238-49e6-bf22-82b29b4db94e",
   "metadata": {},
   "source": [
    "### Evolução anual"
   ]
  },
  {
   "cell_type": "code",
   "execution_count": null,
   "id": "5a96d163-c80e-4575-a2a7-46571eb9c667",
   "metadata": {},
   "outputs": [],
   "source": [
    "# Remove the incomplete 2024 to avoid biases on the monthly analyze\n",
    "db = database[database['Ano Fato'] != 2024]\n",
    "\n",
    "# Find the relative number of homicides for each month\n",
    "relative = db['Ano Fato'].value_counts()\n",
    "\n",
    "# Order the index\n",
    "year = [2012, 2013, 2014, 2015, 2016, 2017, 2018, 2019, 2020, 2021, 2022, 2023]\n",
    "ordered = relative.reindex(year)"
   ]
  },
  {
   "cell_type": "code",
   "execution_count": null,
   "id": "46e73227-9ec9-4478-aa20-69b8b15f8365",
   "metadata": {},
   "outputs": [],
   "source": [
    "# set up figure\n",
    "p = figure(title=\"Evolução no número de homicidios no estado\", x_axis_label='Ano', y_axis_label='Total de mortos', width=1200, tools=\"save\")\n",
    "\n",
    "x = year\n",
    "y = ordered.values\n",
    "\n",
    "# add line\n",
    "p.line(x=x, y=y, color='navy', width=10)\n",
    "\n",
    "# add change bars\n",
    "source = ColumnDataSource(data=dict(x=x[1:], bottom=y[:-1], top=y[1:], percentile=np.diff(y)/y[:-1] * 100))\n",
    "mapper = linear_cmap(field_name='percentile', palette=RdYlGn[10], low=-25, high=25)\n",
    "p.vbar(x='x', bottom='bottom', top='top', width=.1, color=mapper, source=source)\n",
    "\n",
    "# add color bar\n",
    "color_mapper = LinearColorMapper(palette=RdYlGn[10], low=-25, high=25)\n",
    "color_bar = ColorBar(color_mapper=color_mapper, label_standoff=25, location=(0,0), title='Variação Percentual de Ano a Ano')\n",
    "p.add_layout(color_bar, 'right')\n",
    "\n",
    "# change style of title\n",
    "p.title.text_font_size = \"24px\"\n",
    "p.title.text_color = \"navy\"\n",
    "\n",
    "# remove grid lines\n",
    "p.xgrid.grid_line_color = None\n",
    "p.axis.minor_tick_line_color = None\n",
    "\n",
    "# show the plot\n",
    "show(p)"
   ]
  },
  {
   "cell_type": "markdown",
   "id": "77f9e185-7cc6-47b4-8c88-8f06102a7966",
   "metadata": {},
   "source": [
    "### Distribuição"
   ]
  },
  {
   "cell_type": "markdown",
   "id": "7372ed89-1598-406e-a062-035e58cf9720",
   "metadata": {},
   "source": [
    "Monthly"
   ]
  },
  {
   "cell_type": "code",
   "execution_count": null,
   "id": "2721b09f-bed3-45a8-a6ad-4d07053a8b9d",
   "metadata": {},
   "outputs": [],
   "source": [
    "# remove the incomplete 2024 to avoid biases on the monthly analyze\n",
    "db = database[database['Ano Fato'] != 2024]\n",
    "\n",
    "# find the relative number of homicides for each month\n",
    "relative = db['Mês Fato Resumido'].value_counts() / len(db) * 100\n",
    "\n",
    "# order the index\n",
    "year = ['JAN', 'FEV', 'MAR', 'ABR', 'MAI', 'JUN', 'JUL', 'AGO', 'SET', 'OUT', 'NOV', 'DEZ']\n",
    "ordered = relative.reindex(year)"
   ]
  },
  {
   "cell_type": "code",
   "execution_count": null,
   "id": "3f5c5d22-9cff-4391-a77e-35e3c3c22af3",
   "metadata": {},
   "outputs": [],
   "source": [
    "# set up figure\n",
    "p = figure(x_axis_label='Mês', y_axis_label='Porcentagem', x_range=year, width=1200, tools=\"save\")\n",
    "\n",
    "# add bars\n",
    "p.vbar(x=year, top=ordered.values, width=0.95, color='navy')\n",
    "\n",
    "# add a line to show what an equal distribution would look like\n",
    "p.line(x=[0,12], y=[100/12, 100/12], color='red', width=5)\n",
    "\n",
    "# change style of title\n",
    "p.title = \"Distribuição dos Homicídios em Minas Gerais (2012 - 2023)\"\n",
    "p.title.text_font_size = \"24px\"\n",
    "p.title.text_color = \"navy\"\n",
    "\n",
    "# remove grid lines\n",
    "p.xgrid.grid_line_color = None\n",
    "\n",
    "# save the plot\n",
    "tab1 = TabPanel(child=p, title='Mensal')"
   ]
  },
  {
   "cell_type": "markdown",
   "id": "3ccc3387-44e9-4ad4-a8f5-29c44e8f2bfc",
   "metadata": {},
   "source": [
    "Weekly"
   ]
  },
  {
   "cell_type": "code",
   "execution_count": null,
   "id": "1d67c1ed-11da-451a-888a-ff9d5478de02",
   "metadata": {},
   "outputs": [],
   "source": [
    "# find the relative number of homicides for each month\n",
    "relative = database['Dia da Semana Fato'].value_counts() / len(database) * 100\n",
    "\n",
    "# order the index\n",
    "week = ['DOMINGO', 'SEGUNDA-FEIRA', 'TERÇA-FEIRA', 'QUARTA-FEIRA', 'QUINTA-FEIRA', 'SEXTA-FEIRA', 'SÁBADO']\n",
    "ordered = relative.reindex(week)"
   ]
  },
  {
   "cell_type": "code",
   "execution_count": null,
   "id": "73537d5e-13c3-4693-a926-811605a3b76f",
   "metadata": {},
   "outputs": [],
   "source": [
    "# set up figure\n",
    "p = figure(x_axis_label='Dia', y_axis_label='Porcentagem', x_range=week, width=1200, tools=\"save\")\n",
    "\n",
    "# add bars\n",
    "p.vbar(x=week, top=ordered.values, width=0.95, color='navy')\n",
    "\n",
    "# add a line to show what an equal distribution would look like\n",
    "p.line(x=[0,7], y=[100/7, 100/7], color='red', width=5)\n",
    "\n",
    "# change style of title\n",
    "p.title = \"Distribuição dos Homicídios em Minas Gerais (2012 - Fev 2024)\"\n",
    "p.title.text_font_size = \"24px\"\n",
    "p.title.text_color = \"navy\"\n",
    "\n",
    "# remove grid lines\n",
    "p.xgrid.grid_line_color = None\n",
    "\n",
    "# save the plot\n",
    "tab2 = TabPanel(child=p, title='Semanal')"
   ]
  },
  {
   "cell_type": "markdown",
   "id": "254a3d49-2cfc-4782-a742-9c8b6465ffcd",
   "metadata": {},
   "source": [
    "Daily"
   ]
  },
  {
   "cell_type": "code",
   "execution_count": null,
   "id": "d1526570-f0a6-4b6c-ba14-0bee48fe10b1",
   "metadata": {},
   "outputs": [],
   "source": [
    "# find the relative number of homicides for each month\n",
    "relative = database['Faixa 1 Hora Fato'].value_counts() / len(database) * 100\n",
    "\n",
    "# order the index\n",
    "ordered = relative.sort_index()"
   ]
  },
  {
   "cell_type": "code",
   "execution_count": null,
   "id": "89f71eba-e680-41a6-aed5-24501cf67dab",
   "metadata": {},
   "outputs": [],
   "source": [
    "# create a figure\n",
    "p = figure(x_axis_label='Faixa de hora', y_axis_label='Porcentagem', x_range=(0,24), width=1200, tools=\"save\")\n",
    "\n",
    "# add bars\n",
    "p.vbar(x=[i + 0.5 for i in range(24)], top=ordered.values, width=0.95, color='navy')\n",
    "\n",
    "# add a line to show what an equal distribution would look like\n",
    "p.line(x=[0,24], y=[100/24, 100/24], color='red', width=5)\n",
    "\n",
    "# change style of title\n",
    "p.title = \"Distribuição dos Homicídios em Minas Gerais (2012 - Fev 2024)\"\n",
    "p.title.text_font_size = \"24px\"\n",
    "p.title.text_color = \"navy\"\n",
    "\n",
    "# remove grid lines\n",
    "p.xgrid.grid_line_color = None\n",
    "\n",
    "# save the plot\n",
    "tab3 = TabPanel(child=p, title='Diaria')"
   ]
  },
  {
   "cell_type": "code",
   "execution_count": null,
   "id": "2ebfb400-c3d9-4d59-b219-e41c955248f2",
   "metadata": {},
   "outputs": [],
   "source": [
    "tabs = Tabs(tabs=[tab1, tab2, tab3])\n",
    "show(tabs)"
   ]
  },
  {
   "cell_type": "markdown",
   "id": "ad7d7e2c-c648-4ae4-938f-96e195716bb1",
   "metadata": {},
   "source": [
    "# Como ocorrem?"
   ]
  },
  {
   "cell_type": "code",
   "execution_count": null,
   "id": "3bcc9612-4497-48cd-ad13-5309603ff7ad",
   "metadata": {},
   "outputs": [],
   "source": [
    "db = database[['Ano Fato','Desc Longa Meio Utilizado']].copy()\n",
    "db = db[db['Ano Fato'] != 2024]\n",
    "\n",
    "# group by 'Year' and 'Category' and count the occurrences\n",
    "category_counts = db.groupby(['Ano Fato', 'Desc Longa Meio Utilizado']).size().reset_index(name='Count')\n",
    "\n",
    "# pivot to have 'Category' as columns\n",
    "pivoted = category_counts.pivot(index='Ano Fato', columns='Desc Longa Meio Utilizado', values='Count').fillna(0)\n",
    "\n",
    "# group redundant causes\n",
    "pivoted['AGRESSÃO FISICA'] = pivoted['AGRESSAO FISICA'] + pivoted['AGRESSAO FISICA COM EMPREGO DE INSTRUMENTOS'] + pivoted['AGRESSAO FISICA SEM EMPREGO DE INSTRUMENTOS']\n",
    "pivoted = pivoted.drop(columns=['AGRESSAO FISICA', 'AGRESSAO FISICA COM EMPREGO DE INSTRUMENTOS', 'AGRESSAO FISICA SEM EMPREGO DE INSTRUMENTOS'])\n",
    "\n",
    "pivoted['ASFIXIA'] = pivoted['ASFIXIA'] + pivoted['AFOGAMENTO'] + pivoted['ASFIXIA MECANICA (ENFORCAMENTO, ESTRANGULAMENTO, ESGANADURA OU SUFOCAMENTO)'] + pivoted['ASFIXIA POR AFOGAMENTO'] + pivoted['CORDA / ENFORCAMENTO']\n",
    "pivoted = pivoted.drop(columns=['AFOGAMENTO', 'ASFIXIA MECANICA (ENFORCAMENTO, ESTRANGULAMENTO, ESGANADURA OU SUFOCAMENTO)', 'ASFIXIA POR AFOGAMENTO', 'CORDA / ENFORCAMENTO'])\n",
    "\n",
    "pivoted['ROMPIMENTO DE OBSTÁCULO'] = pivoted['ABUSO DE CONFIANCA/CONCURSO DE PESSOAS/ DESTREZA/ DESTRUICAO OU ROMPIMENTO DE OBSTACULO/ESCALADA/FRAUDE/USO DE CHAVE FALSA'] + pivoted['ARROMBAMENTO / ROMPIMENTO DE OBSTACULO']\n",
    "pivoted = pivoted.drop(columns=['ABUSO DE CONFIANCA/CONCURSO DE PESSOAS/ DESTREZA/ DESTRUICAO OU ROMPIMENTO DE OBSTACULO/ESCALADA/FRAUDE/USO DE CHAVE FALSA', 'ARROMBAMENTO / ROMPIMENTO DE OBSTACULO'])\n",
    "\n",
    "pivoted['DECAPITAÇÃO / DEGOLA / ESGORJAMENTO'] = pivoted['DECAPITAÇÃO / DEGOLA / ESGORJAMENTO'] + pivoted['DECAPITACAO / DEGOLA / ESGORJAMENTO']\n",
    "pivoted.drop(columns=['DECAPITACAO / DEGOLA / ESGORJAMENTO'])\n",
    "\n",
    "pivoted['FOGO/EXPLOSIVOS'] = pivoted['EXPLOSIVO / INFLAMAVEL'] + pivoted['INFLAMAVEIS / COMBUSTIVEIS / QUIMICOS / EXPLOSIVOS / ELETRICIDADE'] + pivoted['INFLAMAVEIS/COMBUSTIVEIS/QUIMICOS/EXPLOSIVOS/FOGO'] + pivoted['MEIO UTILIZADO - FOGO']\n",
    "pivoted = pivoted.drop(columns=['EXPLOSIVO / INFLAMAVEL', 'INFLAMAVEIS / COMBUSTIVEIS / QUIMICOS / EXPLOSIVOS / ELETRICIDADE', 'INFLAMAVEIS/COMBUSTIVEIS/QUIMICOS/EXPLOSIVOS/FOGO', 'MEIO UTILIZADO - FOGO'])\n",
    "\n",
    "pivoted['DECAPITAÇÃO / DEGOLA / ESGORJAMENTO'] = pivoted['DECAPITAÇÃO / DEGOLA / ESGORJAMENTO'] + pivoted['DECAPITACAO / DEGOLA / ESGORJAMENTO']\n",
    "pivoted = pivoted.drop(columns=['DECAPITACAO / DEGOLA / ESGORJAMENTO'])\n",
    "\n",
    "pivoted['ARMAS BRANCAS'] = pivoted['INSTRUMENTO PERFURANTE, CORTANTE OU CONTUNDENTE'] + pivoted['INSTRUMENTO CONTUNDENTE / CORTANTE / PERFURANTE (ARMA BRANCA)']\n",
    "pivoted = pivoted.drop(columns=['INSTRUMENTO PERFURANTE, CORTANTE OU CONTUNDENTE', 'INSTRUMENTO CONTUNDENTE / CORTANTE / PERFURANTE (ARMA BRANCA)'])\n",
    "\n",
    "pivoted['OUTROS OU NENHUM IDENTIFICADO'] = pivoted['INEXISTENTE'] + pivoted['INVÁLIDO'] + pivoted['MEIO UTILIZADO - IGNORADO'] + pivoted['OUTROS MEIOS (DESCREVER EM CAMPO ESPECIFICO)'] + pivoted['PREENCHIMENTO OPCIONAL']\n",
    "pivoted = pivoted.drop(columns=['INEXISTENTE', 'INVÁLIDO', 'MEIO UTILIZADO - IGNORADO', 'OUTROS MEIOS (DESCREVER EM CAMPO ESPECIFICO)', 'PREENCHIMENTO OPCIONAL'])\n",
    "\n",
    "# get the list of unique categories\n",
    "categories = pivoted.columns"
   ]
  },
  {
   "cell_type": "code",
   "execution_count": null,
   "id": "c7d9df60-4571-40e5-aa50-9872162c63a0",
   "metadata": {},
   "outputs": [],
   "source": [
    "# set up the tooltips\n",
    "TOOLTIPS = [\n",
    "    (\"# de Homicídios\", \"@$name\"),\n",
    "]\n",
    "\n",
    "# set up figure\n",
    "p = figure(x_axis_label='Ano', y_axis_label='Total de mortos', width=1200, height=1000,x_range=(2011.5,2023.5), y_range=(0,4500), sizing_mode='stretch_width', tools='save,hover', tooltips=TOOLTIPS)\n",
    "\n",
    "# add bars\n",
    "bars = p.vbar_stack(categories, x='Ano Fato', width=0.95, source=pivoted, color=Category20[len(categories)])\n",
    "\n",
    "# set up legends\n",
    "legend = Legend(items=[(x, [bars[i]]) for i, x in enumerate(categories)])\n",
    "p.add_layout(legend, 'right')\n",
    "p.legend.orientation = 'vertical'\n",
    "\n",
    "# change style of title\n",
    "p.title = \"Meios Utilizados nos Homicídios em Minas Gerais (2012 - 2023)\"\n",
    "p.title.text_font_size = \"24px\"\n",
    "p.title.text_color = \"navy\"\n",
    "\n",
    "# remove grid lines\n",
    "p.xgrid.grid_line_color=None\n",
    "p.axis.minor_tick_line_color = None\n",
    "\n",
    "# show the plot\n",
    "show(p)"
   ]
  },
  {
   "cell_type": "code",
   "execution_count": null,
   "id": "31b4b7a5-16d2-4efe-a68a-1949e8a8b546",
   "metadata": {},
   "outputs": [],
   "source": []
  }
 ],
 "metadata": {
  "kernelspec": {
   "display_name": "Python 3 (ipykernel)",
   "language": "python",
   "name": "python3"
  },
  "language_info": {
   "codemirror_mode": {
    "name": "ipython",
    "version": 3
   },
   "file_extension": ".py",
   "mimetype": "text/x-python",
   "name": "python",
   "nbconvert_exporter": "python",
   "pygments_lexer": "ipython3",
   "version": "3.11.9"
  }
 },
 "nbformat": 4,
 "nbformat_minor": 5
}
